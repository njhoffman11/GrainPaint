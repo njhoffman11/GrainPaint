{
 "cells": [
  {
   "cell_type": "code",
   "execution_count": 1,
   "metadata": {},
   "outputs": [
    {
     "ename": "FileNotFoundError",
     "evalue": "[Errno 2] No such file or directory: 'X_train.npy'",
     "output_type": "error",
     "traceback": [
      "\u001b[0;31m---------------------------------------------------------------------------\u001b[0m",
      "\u001b[0;31mFileNotFoundError\u001b[0m                         Traceback (most recent call last)",
      "Cell \u001b[0;32mIn[1], line 5\u001b[0m\n\u001b[1;32m      3\u001b[0m \u001b[38;5;28;01mfrom\u001b[39;00m\u001b[38;5;250m \u001b[39m\u001b[38;5;21;01mmatplotlib\u001b[39;00m\u001b[38;5;250m \u001b[39m\u001b[38;5;28;01mimport\u001b[39;00m pyplot \u001b[38;5;28;01mas\u001b[39;00m plt\n\u001b[1;32m      4\u001b[0m \u001b[38;5;66;03m# Load all of the processed data\u001b[39;00m\n\u001b[0;32m----> 5\u001b[0m npy_train \u001b[38;5;241m=\u001b[39m \u001b[43mnp\u001b[49m\u001b[38;5;241;43m.\u001b[39;49m\u001b[43mload\u001b[49m\u001b[43m(\u001b[49m\u001b[38;5;124;43m\"\u001b[39;49m\u001b[38;5;124;43mX_train.npy\u001b[39;49m\u001b[38;5;124;43m\"\u001b[39;49m\u001b[43m)\u001b[49m\u001b[38;5;241m.\u001b[39mastype(np\u001b[38;5;241m.\u001b[39mfloat16)\n\u001b[1;32m      6\u001b[0m npy_test \u001b[38;5;241m=\u001b[39m np\u001b[38;5;241m.\u001b[39mload(\u001b[38;5;124m\"\u001b[39m\u001b[38;5;124mX_test.npy\u001b[39m\u001b[38;5;124m\"\u001b[39m)\u001b[38;5;241m.\u001b[39mastype(np\u001b[38;5;241m.\u001b[39mfloat16)[:\u001b[38;5;241m10\u001b[39m]\n\u001b[1;32m      7\u001b[0m \u001b[38;5;28mprint\u001b[39m(npy_train\u001b[38;5;241m.\u001b[39mshape)\n",
      "File \u001b[0;32m~/anaconda3/envs/GrainPaint/lib/python3.11/site-packages/numpy/lib/_npyio_impl.py:451\u001b[0m, in \u001b[0;36mload\u001b[0;34m(file, mmap_mode, allow_pickle, fix_imports, encoding, max_header_size)\u001b[0m\n\u001b[1;32m    449\u001b[0m     own_fid \u001b[38;5;241m=\u001b[39m \u001b[38;5;28;01mFalse\u001b[39;00m\n\u001b[1;32m    450\u001b[0m \u001b[38;5;28;01melse\u001b[39;00m:\n\u001b[0;32m--> 451\u001b[0m     fid \u001b[38;5;241m=\u001b[39m stack\u001b[38;5;241m.\u001b[39menter_context(\u001b[38;5;28;43mopen\u001b[39;49m\u001b[43m(\u001b[49m\u001b[43mos\u001b[49m\u001b[38;5;241;43m.\u001b[39;49m\u001b[43mfspath\u001b[49m\u001b[43m(\u001b[49m\u001b[43mfile\u001b[49m\u001b[43m)\u001b[49m\u001b[43m,\u001b[49m\u001b[43m \u001b[49m\u001b[38;5;124;43m\"\u001b[39;49m\u001b[38;5;124;43mrb\u001b[39;49m\u001b[38;5;124;43m\"\u001b[39;49m\u001b[43m)\u001b[49m)\n\u001b[1;32m    452\u001b[0m     own_fid \u001b[38;5;241m=\u001b[39m \u001b[38;5;28;01mTrue\u001b[39;00m\n\u001b[1;32m    454\u001b[0m \u001b[38;5;66;03m# Code to distinguish from NumPy binary files and pickles.\u001b[39;00m\n",
      "\u001b[0;31mFileNotFoundError\u001b[0m: [Errno 2] No such file or directory: 'X_train.npy'"
     ]
    }
   ],
   "source": [
    "import numpy as np\n",
    "import os\n",
    "from matplotlib import pyplot as plt\n",
    "# Load all of the processed data\n",
    "npy_train = np.load(\"X_train.npy\").astype(np.float16)\n",
    "npy_test = np.load(\"X_test.npy\").astype(np.float16)[:10]\n",
    "print(npy_train.shape)\n"
   ]
  },
  {
   "cell_type": "markdown",
   "metadata": {},
   "source": [
    "### Normalize"
   ]
  },
  {
   "cell_type": "code",
   "execution_count": 2,
   "metadata": {},
   "outputs": [
    {
     "name": "stdout",
     "output_type": "stream",
     "text": [
      "(36000, 32, 32, 32)\n"
     ]
    }
   ],
   "source": [
    "\n",
    "minmax = True\n",
    "print(npy_train.shape)\n",
    "if minmax:\n",
    "    npy_train_min = npy_train.min()\n",
    "    npy_train_max = npy_train.max()\n",
    "    npy_train_norm = (npy_train - npy_train_min) / (npy_train_max - npy_train_min)\n",
    "    npy_test_norm = (npy_test - npy_train_min) / (npy_train_max - npy_train_min)\n",
    "else:\n",
    "    npy_train_mean = npy_train.mean()\n",
    "    npy_train_std = npy_train.std()\n",
    "    npy_train_norm = (npy_train - npy_train_mean) / npy_train_std\n",
    "    npy_test_norm = (npy_test - npy_train_mean) / npy_train_std\n",
    "\n",
    "# plt.imshow(npy_train_norm[0,8,:,:])\n",
    "# npy_train_norm -= .5\n",
    "# npy_test_norm -= .5\n",
    "# npy_test_norm *= 2\n",
    "# npy_train_norm *= 2\n",
    "\n",
    "# Find the mean and change to 0\n",
    "means = npy_train.mean(axis=(1, 2, 3), keepdims=True)\n",
    "arrays_mean_zero = npy_train - means\n",
    "# Find the max absolute value after subtracting the mean\n",
    "max_vals = np.abs(arrays_mean_zero).max(axis=(1, 2, 3), keepdims=True)\n",
    "# Normalize to range [-1, 1]\n",
    "npy_train_norm = arrays_mean_zero / max_vals\n",
    "\n",
    "means = npy_test.mean(axis=(1, 2, 3), keepdims=True)\n",
    "arrays_mean_zero = npy_test - means\n",
    "# Find the max absolute value after subtracting the mean\n",
    "max_vals = np.abs(arrays_mean_zero).max(axis=(1, 2, 3), keepdims=True)\n",
    "# Normalize to range [-1, 1]\n",
    "npy_test_norm = arrays_mean_zero / max_vals\n",
    "\n",
    "# for i in range(10):\n",
    "\n",
    "#     plt.imshow(npy_test_norm[i,8,:,:])\n",
    "#     plt.show()\n",
    "# add extra dimension after batch dimension\n",
    "npy_train_norm = np.expand_dims(npy_train_norm, axis=1)\n",
    "npy_test_norm = np.expand_dims(npy_test_norm, axis=1)\n",
    "\n",
    "# # corrupt training data\n",
    "# for i in range(npy_train_norm.shape[0]):\n",
    "#     # get random indices to corrupt\n",
    "#     indices = (np.random.random(3)*6).astype(int)\n",
    "#     print(indices)\n",
    "#     npy_train_norm[i,0,indices[0]:indices[0]+10,indices[1]:indices[1]+10,indices[2]:indices[2]+10] = np.random.randn(10,10,10)\n",
    "#     print(npy_train_norm[i].shape)\n",
    "\n",
    "# plt.imshow(npy_train_norm[0,0,8,:,:])\n",
    "\n",
    "dims = (1, npy_train_norm.shape[1], npy_train_norm.shape[2], npy_train_norm.shape[3], npy_train_norm.shape[4])"
   ]
  },
  {
   "cell_type": "markdown",
   "metadata": {},
   "source": [
    "### Import and Setup Diffuser Config"
   ]
  },
  {
   "cell_type": "code",
   "execution_count": 3,
   "metadata": {},
   "outputs": [
    {
     "name": "stderr",
     "output_type": "stream",
     "text": [
      "2024-12-24 13:37:17.528900: I tensorflow/core/platform/cpu_feature_guard.cc:182] This TensorFlow binary is optimized to use available CPU instructions in performance-critical operations.\n",
      "To enable the following instructions: AVX2 FMA, in other operations, rebuild TensorFlow with the appropriate compiler flags.\n",
      "2024-12-24 13:37:18.846228: W tensorflow/compiler/tf2tensorrt/utils/py_utils.cc:38] TF-TRT Warning: Could not find TensorRT\n"
     ]
    },
    {
     "name": "stdout",
     "output_type": "stream",
     "text": [
      "x_test shape: torch.Size([5, 1, 32, 32, 32])\n",
      "t_test shape: torch.Size([5])\n",
      "y shape: torch.Size([5, 1, 32, 32, 32])\n",
      "Num params:  6385665\n"
     ]
    }
   ],
   "source": [
    "from dataclasses import dataclass\n",
    "from diffusers import UNet3DConditionModel\n",
    "import torch\n",
    "\n",
    "@dataclass\n",
    "class TrainingConfig:\n",
    "    image_size = 32  # the generated image resolution\n",
    "    train_batch_size = 4 # this does not set the batch size. Use batch_size below.\n",
    "    eval_batch_size = 1  # how many images to sample during evaluation\n",
    "    num_epochs = 50\n",
    "    gradient_accumulation_steps = 1\n",
    "    learning_rate = 1e-4\n",
    "    lr_warmup_steps = 500\n",
    "    save_image_epochs = 10\n",
    "    save_model_epochs = 30\n",
    "    mixed_precision = \"no\"  # `no` for float32, `fp16` for automatic mixed precision\n",
    "    output_dir = \"model_checkpoints/ddm32_big_250_aniso.ckpt\"  # the model name locally and on the HF Hub\n",
    "    push_to_hub = False  # whether to upload the saved model to the HF Hub\n",
    "    hub_private_repo = False\n",
    "    overwrite_output_dir = True  # overwrite the old model when re-running the notebook\n",
    "    seed = 0\n",
    "\n",
    "\n",
    "config = TrainingConfig()\n",
    "\n",
    "model_diffuser = UNet3DConditionModel(\n",
    "    sample_size=config.image_size,  # the target image resolution\n",
    "    in_channels=1,  # the number of input channels, 3 for RGB images\n",
    "    out_channels=1,  # the number of output channels\n",
    "    layers_per_block=1,  # how many ResNet layers to use per UNet block\n",
    "    block_out_channels=(32,64),  # the number of output channes for each UNet block\n",
    "    cross_attention_dim=32,  # the dimension of the cross-attention layers\n",
    "    norm_num_groups=32,  # the number of groups for the group normalization layers\n",
    "    down_block_types=(\n",
    "\n",
    "        # \"DownBlock3D\",\n",
    "        \"DownBlock3D\",\n",
    "        # \"CrossAttnDownBlock3D\",  # a ResNet downsampling block with spatial self-attention\n",
    "        \"DownBlock3D\",\n",
    "    ),\n",
    "    up_block_types=(\n",
    "        # \"UpBlock3D\",  # a regular ResNet upsampling block\n",
    "        # \"CrossAttnUpBlock3D\",  # a ResNet upsampling block with spatial self-attention\n",
    "        \"UpBlock3D\",\n",
    "        \"UpBlock3D\",\n",
    "\n",
    "      ),\n",
    ")\n",
    "\n",
    "B_test = 5\n",
    "encoder_hidden_states=torch.ones((B_test,1,32))\n",
    "T_test = 100\n",
    "# dummy input\n",
    "x_test = torch.randn(B_test, 1, 32, 32, 32)\n",
    "t_test = torch.randint(0, T_test, (B_test,), device='cpu').long()\n",
    "print(\"x_test shape:\", x_test.shape)\n",
    "print(\"t_test shape:\", t_test.shape)\n",
    "model_diffuser\n",
    "# Dummy forward pass\n",
    "y = model_diffuser(x_test, t_test, encoder_hidden_states).sample\n",
    "print(\"y shape:\", y.shape)\n",
    "print(\"Num params: \", sum(p.numel() for p in model_diffuser.parameters()))"
   ]
  },
  {
   "cell_type": "markdown",
   "metadata": {},
   "source": [
    "### Define Forward Schedule"
   ]
  },
  {
   "cell_type": "code",
   "execution_count": 4,
   "metadata": {},
   "outputs": [
    {
     "data": {
      "image/png": "[encoded data removed]",
      "text/plain": [
       "<Figure size 1500x300 with 7 Axes>"
      ]
     },
     "metadata": {},
     "output_type": "display_data"
    }
   ],
   "source": [
    "import importlib\n",
    "import torch \n",
    "import plotting\n",
    "import ddm_utils\n",
    "importlib.reload(plotting)\n",
    "importlib.reload(ddm_utils)\n",
    "from ddm_utils import DiffusionSampler, beta_schedule\n",
    "from plotting import show_forward_process, sample_plot_image\n",
    "from torch.utils.data import DataLoader, Dataset\n",
    "train_dataset = torch.from_numpy(npy_train_norm)\n",
    "test_dataset = torch.from_numpy(npy_test_norm)\n",
    "forward_plotter = DataLoader(npy_train_norm, batch_size=1, shuffle=False)\n",
    "\n",
    "## Schedule Parameters\n",
    "T = 250 # Number of timesteps\n",
    "start = 1e-4 # Starting variance \n",
    "end = 0.02 # Ending variance\n",
    "# Choose a schedule (if the following are False, then a linear schedule is used)\n",
    "cosine = False # Use cosine schedule\n",
    "exp_biasing = False # Use exponential schedule\n",
    "exp_biasing_factor = 1 # Exponential schedule factor (used if exp_biasing=True)\n",
    "##\n",
    "\n",
    "\n",
    "## Plotting Parameters\n",
    "T_m = T # Number of timesteps to plot\n",
    "num_images = 6 # Number of images to plot\n",
    "show_entire_batch = False\n",
    "random = False\n",
    "non_random_idx = 15\n",
    "##\n",
    "\n",
    "if show_entire_batch:\n",
    "    image = next(iter(forward_plotter))\n",
    "else:\n",
    "    if random:\n",
    "        idx = np.random.randint(0,forward_plotter.__len__())  \n",
    "    else: \n",
    "        idx = non_random_idx\n",
    "    image = train_dataset[idx].unsqueeze(0)\n",
    "\n",
    "# Choose a variance schedule\n",
    "\n",
    "betas = beta_schedule(T=T, start=start, end=end,\n",
    "                       scale= 1.0, cosine=cosine, \n",
    "                       exp_biasing=exp_biasing, exp_bias_factor=exp_biasing_factor\n",
    "                       )\n",
    "\n",
    "ddm_sampler = DiffusionSampler(T, betas)\n",
    "forward_fcn = ddm_sampler.forward_diffusion_sample\n",
    "show_forward_process(image,forward_fcn,T_m=T, num_images=6)"
   ]
  },
  {
   "cell_type": "markdown",
   "metadata": {},
   "source": [
    "### Initialize Model"
   ]
  },
  {
   "cell_type": "code",
   "execution_count": 5,
   "metadata": {},
   "outputs": [
    {
     "name": "stdout",
     "output_type": "stream",
     "text": [
      "batch_size: 8\n",
      "Created new model\n",
      "x_test shape: torch.Size([5, 1, 32, 32, 32])\n",
      "t_test shape: torch.Size([5])\n",
      "y shape: torch.Size([5, 1, 32, 32, 32])\n",
      "Num params:  6385665\n"
     ]
    }
   ],
   "source": [
    "import torch\n",
    "import torch.nn as nn\n",
    "import torch.nn.functional as F\n",
    "import importlib\n",
    "# import unet3d_model\n",
    "# importlib.reload(unet3d_model)\n",
    "# from unet3d_model import UnetModel\n",
    "\n",
    "\n",
    "# Settings:\n",
    "save_ddm = True # Whether to save the ddm\n",
    "load_ddm = False # Whether to load a pretrained ddm\n",
    "batch_size = 8 # Batch size\n",
    "print(\"batch_size:\", batch_size)\n",
    "n_epochs = 10 # Number of epochs to train for\n",
    "stat_interval = 10 # How often to calculate the loss statistics\n",
    "plot_interval = 10 # How often to plot the loss statistics\n",
    "save_interval = 10 # How often to save the model and stats\n",
    "save_plots = True # Whether to save the diffusion plots\n",
    "clear_animations = True # Whether to clear the animation folder\n",
    "animate_path = 'results/' # Path to save the animation\n",
    "ddm_save_path = 'model_checkpoints/ddm32_big_250_aniso.ckpt' # Path to save the model\n",
    "ddm_load_path = 'model_checkpoints/ddm32_big_250_aniso.ckpt' # Path to load the model \n",
    "ddm_stats_path = 'model_checkpoints/ddm_stats32_big_250_aniso.pth' # Path to save the autoencoder stats\\\n",
    "mp_mode = False # Whether to use mixed precision\n",
    "pre_load = False # Whether to pre-load the data onto the GPU\n",
    "\n",
    "# Plotting/animation parameters:\n",
    "T_anim = T # Number of timesteps to diffuse\n",
    "plot_images = 5 # Number of images to plot\n",
    "\n",
    "# Parameters for the diffusion process\n",
    "# model_depth=4\n",
    "# final_activation=\"gelu\" \n",
    "# block_activation=\"gelu\"\n",
    "# time_activation=\"gelu\"\n",
    "# time_dim=64\n",
    "\n",
    "# Parameters for the optimizer\n",
    "lr = 1e-4 # Learning rate\n",
    "\n",
    "# Clear all png files in the animation folder\n",
    "if clear_animations:\n",
    "    import os, glob\n",
    "    for f in glob.glob(animate_path+'/*.png'):\n",
    "        os.remove(f)\n",
    "\n",
    "if load_ddm:\n",
    "    model_diffuser = torch.load(ddm_load_path, map_location='cuda:'+str(1))\n",
    "    print('Loaded model from', ddm_load_path)\n",
    "\n",
    "    # Load stats:\n",
    "    ddm_stats = torch.load(ddm_stats_path)\n",
    "    epoch_start = ddm_stats['epoch']\n",
    "    current_loss = ddm_stats['current_loss']\n",
    "    test_loss = ddm_stats['test_loss']\n",
    "    train_loss = ddm_stats['train_loss']\n",
    "    test_loss_epoch = ddm_stats['test_loss_epoch']\n",
    "    train_loss_epoch = ddm_stats['train_loss_epoch']\n",
    "else:\n",
    "    epoch_start = 0\n",
    "    current_loss = 999999\n",
    "    test_loss = np.array([])\n",
    "    train_loss = np.array([])\n",
    "    test_loss_epoch = np.array([])\n",
    "    train_loss_epoch = np.array([])\n",
    "    model_diffuser = UNet3DConditionModel(\n",
    "        sample_size=config.image_size,  # the target image resolution\n",
    "        in_channels=1,  # the number of input channels, 3 for RGB images\n",
    "        out_channels=1,  # the number of output channels\n",
    "        layers_per_block=1,  # how many ResNet layers to use per UNet block\n",
    "        block_out_channels=(32,64),  # the number of output channes for each UNet block\n",
    "        cross_attention_dim=32,  # the dimension of the cross-attention layers\n",
    "        norm_num_groups=32,  # the number of groups for the group normalization layers\n",
    "        down_block_types=(\n",
    "\n",
    "            # \"DownBlock3D\",\n",
    "            \"DownBlock3D\",\n",
    "            # \"CrossAttnDownBlock3D\",  # a ResNet downsampling block with spatial self-attention\n",
    "            \"DownBlock3D\",\n",
    "        ),\n",
    "        up_block_types=(\n",
    "            # \"UpBlock3D\",  # a regular ResNet upsampling block\n",
    "            \n",
    "            \"UpBlock3D\",\n",
    "            # \"CrossAttnUpBlock3D\",  # a ResNet upsampling block with spatial self-attention\n",
    "            \"UpBlock3D\",\n",
    "\n",
    "        ),\n",
    "    )\n",
    "\n",
    "    print('Created new model')\n",
    "\n",
    "device = \"cuda:1\"\n",
    "model_diffuser.to('cpu')\n",
    "# Loss function\n",
    "def ddm_loss_fn(noise_pred, noise):\n",
    "    return F.l1_loss(noise_pred, noise)\n",
    "B_test = 5\n",
    "encoder_hidden_states=torch.ones((B_test,1,32))\n",
    "T_test = 100\n",
    "# dummy input\n",
    "x_test = torch.randn(B_test, 1, 32, 32, 32)\n",
    "t_test = torch.randint(0, T_test, (B_test,), device='cpu').long()\n",
    "print(\"x_test shape:\", x_test.shape)\n",
    "print(\"t_test shape:\", t_test.shape)\n",
    "\n",
    "# Dummy forward pass\n",
    "y = model_diffuser(x_test, t_test, encoder_hidden_states).sample\n",
    "print(\"y shape:\", y.shape)\n",
    "print(\"Num params: \", sum(p.numel() for p in model_diffuser.parameters()))"
   ]
  },
  {
   "cell_type": "markdown",
   "metadata": {},
   "source": [
    "### Train The Model"
   ]
  },
  {
   "cell_type": "code",
   "execution_count": null,
   "metadata": {},
   "outputs": [
    {
     "name": "stdout",
     "output_type": "stream",
     "text": [
      "Training on cuda:1 for 10 epochs\n"
     ]
    },
    {
     "name": "stderr",
     "output_type": "stream",
     "text": [
      "4499it [58:46,  1.29it/s]"
     ]
    },
    {
     "name": "stdout",
     "output_type": "stream",
     "text": [
      "Epoch 0, Loss = 0.15642599761486053, Compute Time = 1287.80 s, Total Time = 3527.69 s\n",
      "Saved model to model_checkpoints/ddm32_big_250_aniso.ckpt\n",
      "Saved stats to model_checkpoints/ddm_stats32_big_250_aniso.pth\n"
     ]
    },
    {
     "data": {
      "image/png": "[encoded data removed]",
      "text/plain": [
       "<Figure size 1500x300 with 5 Axes>"
      ]
     },
     "metadata": {},
     "output_type": "display_data"
    },
    {
     "name": "stderr",
     "output_type": "stream",
     "text": [
      "4500it [58:56,  1.27it/s]\n"
     ]
    },
    {
     "name": "stdout",
     "output_type": "stream",
     "text": [
      "Epoch 0, Loss = 0.15642599761486053\n"
     ]
    },
    {
     "name": "stderr",
     "output_type": "stream",
     "text": [
      "4500it [58:02,  1.29it/s]\n"
     ]
    },
    {
     "name": "stdout",
     "output_type": "stream",
     "text": [
      "Epoch 1, Loss = 0.1231694445014\n"
     ]
    },
    {
     "name": "stderr",
     "output_type": "stream",
     "text": [
      "4500it [58:02,  1.29it/s]\n"
     ]
    },
    {
     "name": "stdout",
     "output_type": "stream",
     "text": [
      "Epoch 2, Loss = 0.1202024444937706\n"
     ]
    },
    {
     "name": "stderr",
     "output_type": "stream",
     "text": [
      "4500it [58:02,  1.29it/s]\n"
     ]
    },
    {
     "name": "stdout",
     "output_type": "stream",
     "text": [
      "Epoch 3, Loss = 0.11438243091106415\n"
     ]
    },
    {
     "name": "stderr",
     "output_type": "stream",
     "text": [
      "4500it [58:02,  1.29it/s]\n"
     ]
    },
    {
     "name": "stdout",
     "output_type": "stream",
     "text": [
      "Epoch 4, Loss = 0.11915230751037598\n"
     ]
    },
    {
     "name": "stderr",
     "output_type": "stream",
     "text": [
      "4500it [58:02,  1.29it/s]\n"
     ]
    },
    {
     "name": "stdout",
     "output_type": "stream",
     "text": [
      "Epoch 5, Loss = 0.1279674470424652\n"
     ]
    },
    {
     "name": "stderr",
     "output_type": "stream",
     "text": [
      "4500it [58:02,  1.29it/s]\n"
     ]
    },
    {
     "name": "stdout",
     "output_type": "stream",
     "text": [
      "Epoch 6, Loss = 0.11960539221763611\n"
     ]
    },
    {
     "name": "stderr",
     "output_type": "stream",
     "text": [
      "4500it [58:03,  1.29it/s]\n"
     ]
    },
    {
     "name": "stdout",
     "output_type": "stream",
     "text": [
      "Epoch 7, Loss = 0.11403407156467438\n"
     ]
    },
    {
     "name": "stderr",
     "output_type": "stream",
     "text": [
      "4500it [58:03,  1.29it/s]\n"
     ]
    },
    {
     "name": "stdout",
     "output_type": "stream",
     "text": [
      "Epoch 8, Loss = 0.11814086884260178\n"
     ]
    },
    {
     "name": "stderr",
     "output_type": "stream",
     "text": [
      "4500it [58:03,  1.29it/s]\n"
     ]
    },
    {
     "name": "stdout",
     "output_type": "stream",
     "text": [
      "Epoch 9, Loss = 0.11618702113628387\n"
     ]
    },
    {
     "name": "stderr",
     "output_type": "stream",
     "text": [
      "4499it [58:02,  1.29it/s]"
     ]
    },
    {
     "name": "stdout",
     "output_type": "stream",
     "text": [
      "Epoch 10, Loss = 0.11278273165225983, Compute Time = 13843.94 s, Total Time = 41893.61 s\n",
      "Saved model to model_checkpoints/ddm32_big_250_aniso.ckpt\n",
      "Saved stats to model_checkpoints/ddm_stats32_big_250_aniso.pth\n"
     ]
    },
    {
     "data": {
      "image/png": "[encoded data removed]",
      "text/plain": [
       "<Figure size 1500x300 with 5 Axes>"
      ]
     },
     "metadata": {},
     "output_type": "display_data"
    },
    {
     "name": "stderr",
     "output_type": "stream",
     "text": [
      "4500it [58:11,  1.29it/s]"
     ]
    },
    {
     "name": "stdout",
     "output_type": "stream",
     "text": [
      "Epoch 10, Loss = 0.11278273165225983\n",
      "Total training time: 38374.13 s\n",
      "Saved model to model_checkpoints/ddm32_big_250_aniso.ckpt\n",
      "Saved stats to model_checkpoints/ddm_stats32_big_250_aniso.pth\n"
     ]
    },
    {
     "name": "stderr",
     "output_type": "stream",
     "text": [
      "\n"
     ]
    },
    {
     "ename": "",
     "evalue": "",
     "output_type": "error",
     "traceback": [
      "\u001b[1;31mThe Kernel crashed while executing code in the current cell or a previous cell. \n",
      "\u001b[1;31mPlease review the code in the cell(s) to identify a possible cause of the failure. \n",
      "\u001b[1;31mClick <a href='https://aka.ms/vscodeJupyterKernelCrash'>here</a> for more info. \n",
      "\u001b[1;31mView Jupyter <a href='command:jupyter.viewOutput'>log</a> for further details."
     ]
    }
   ],
   "source": [
    "import time\n",
    "from tqdm import tqdm\n",
    "torch.cuda.empty_cache()\n",
    "print(f\"Training on {device} for {n_epochs} epochs\")\n",
    "model_diffuser.to(device)\n",
    "\n",
    "# Create the optimizer\n",
    "optimizer = torch.optim.Adam(model_diffuser.parameters(), lr=lr)\n",
    "\n",
    "# Create the data loader\n",
    "if pre_load:\n",
    "    train_dataset.to(device)\n",
    "    test_dataset.to(device)\n",
    "else:\n",
    "    train_dataset.to('cpu')\n",
    "    test_dataset.to('cpu')\n",
    "\n",
    "train_loader = DataLoader(train_dataset.float(), batch_size=batch_size, shuffle=True)\n",
    "\n",
    "# Test loader (for calculating test loss)\n",
    "B_test = test_dataset.shape[0]\n",
    "test_loader = DataLoader(test_dataset.float(), batch_size=B_test, shuffle=False)\n",
    "\n",
    "# Mixed precision\n",
    "if mp_mode:\n",
    "    scaler = torch.cuda.amp.GradScaler()\n",
    "\n",
    "time_elapsed = 0\n",
    "total_time = 0\n",
    "start_training = time.time()\n",
    "\n",
    "# Training loop\n",
    "model_diffuser.train()\n",
    "for epoch in range(epoch_start, n_epochs+epoch_start+1):\n",
    "    for i, x in tqdm(enumerate(train_loader)):\n",
    "        # measure data loading time\n",
    "        start = time.time()\n",
    "\n",
    "        # Zero the parameter gradients\n",
    "        optimizer.zero_grad()\n",
    "\n",
    "        if not pre_load:\n",
    "            x = x.to(device)\n",
    "\n",
    "\n",
    "        current_batch_size = x.shape[0]\n",
    "        t = torch.randint(0, T, (current_batch_size,), device=device).long()\n",
    "        encoder_hidden_states=torch.ones((current_batch_size,1,32)).to(device)\n",
    "\n",
    "        # print(\"x shape:\", x.shape)\n",
    "        # print(\"t shape:\", t.shape)\n",
    "\n",
    "        # Get the noise and the noisy input\n",
    "        x_noisy, noise = ddm_sampler.forward_diffusion_sample(x, t, device)\n",
    "\n",
    "        # Forward pass\n",
    "        if mp_mode:\n",
    "            with torch.cuda.amp.autocast(dtype=torch.float16):\n",
    "                noise_pred = model_diffuser(x_noisy, t, encoder_hidden_states).sample\n",
    "                loss = ddm_loss_fn(noise_pred, noise)\n",
    "            scaler.scale(loss).backward()\n",
    "            scaler.step(optimizer)\n",
    "            scaler.update()\n",
    "        else:\n",
    "            noise_pred = model_diffuser(x_noisy, t, encoder_hidden_states).sample\n",
    "            loss = ddm_loss_fn(noise_pred, noise)\n",
    "\n",
    "            # Backpropagation\n",
    "            loss.backward()\n",
    "            optimizer.step()\n",
    "\n",
    "        # measure elapsed time\n",
    "        end = time.time()\n",
    "        time_elapsed += end - start\n",
    "\n",
    "        # Update statistics\n",
    "        current_loss = loss.item()\n",
    "        train_loss = np.append(train_loss, current_loss)\n",
    "        train_loss_epoch = np.append(train_loss_epoch, epoch+1)\n",
    "        # save at the end of each epoch\n",
    "        if epoch % stat_interval == 0 and i == len(train_loader)-1:\n",
    "            # measure total time\n",
    "            end_training = time.time()\n",
    "            total_time += end_training - start_training\n",
    "            print(f\"Epoch {epoch}, Loss = {current_loss}, Compute Time = {time_elapsed:.2f} s, Total Time = {total_time:.2f} s\")\n",
    "            # calculate test loss\n",
    "            with torch.no_grad():\n",
    "                for j, x_test in enumerate(test_loader):\n",
    "                    \n",
    "                    if not pre_load:\n",
    "                        x_test = x_test.to(device)\n",
    "                        \n",
    "\n",
    "                    current_test_batch_size = x_test.shape[0]\n",
    "                    t_test = torch.randint(0, T, (current_test_batch_size,), device=device).long()\n",
    "                    encoder_hidden_states_test=torch.ones((current_test_batch_size,1,32)).to(device)\n",
    "\n",
    "                    # Get the noise and the noisy input\n",
    "                    x_noisy_test, noise_test = ddm_sampler.forward_diffusion_sample(x_test, t_test, device)\n",
    "                    # print(indices)\n",
    "                    # npy_train_norm[i,0,indices[0]:indices[0]+10,indices[1]:indices[1]+10,indices[2]:indices[2]+10] = np.ones(10,10,10)\n",
    "                    # x_noisy_masked = sample_mask(x_noisy) # mask the noisy image\n",
    "                    # noise_masked = sample_mask(noise) # mask the noise\n",
    "\n",
    "                    # Forward pass\n",
    "                    noise_pred_test = model_diffuser(x_noisy_test, t_test, encoder_hidden_states_test).sample\n",
    "                    loss = ddm_loss_fn(noise_pred_test, noise_test)\n",
    "\n",
    "                    # Update statistics\n",
    "                    test_loss = np.append(test_loss, loss.item())\n",
    "                    test_loss_epoch = np.append(test_loss_epoch, epoch+1)\\\n",
    "        \n",
    "        # Save the model\n",
    "        if epoch % save_interval == 0 and i == len(train_loader)-1:\n",
    "            torch.save(model_diffuser, ddm_save_path)\n",
    "            print('Saved model to', ddm_save_path)\n",
    "\n",
    "            # Save stats:\n",
    "            ddm_stats = {'epoch': epoch+1,\n",
    "                        'current_loss': current_loss,\n",
    "                        'test_loss': test_loss,\n",
    "                        'train_loss': train_loss,\n",
    "                        'test_loss_epoch': test_loss_epoch,\n",
    "                        'train_loss_epoch': train_loss_epoch}\n",
    "            torch.save(ddm_stats, ddm_stats_path)\n",
    "            print('Saved stats to', ddm_stats_path)\n",
    "\n",
    "        # Plot the diffusion process \n",
    "        if epoch % plot_interval == 0 and i == len(train_loader)-1:\n",
    "            # pick a random set of parameters from the test set\n",
    "            idx = np.random.randint(0, len(test_dataset))\n",
    "            with torch.no_grad():\n",
    "                sample_plot_image(model_diffuser, epoch, ddm_sampler.sample_timestep,\n",
    "                        dims=dims, num_images=plot_images, T=T_anim,\n",
    "                        save=save_plots, save_path=animate_path,\n",
    "                        device=device,\n",
    "                        )\n",
    "        \n",
    "    print(f\"Epoch {epoch}, Loss = {current_loss}\")\n",
    "    # measure total time\n",
    "    end_training = time.time()\n",
    "\n",
    "\n",
    "# measure total time\n",
    "end_training = time.time()\n",
    "total_time = end_training - start_training\n",
    "print(f\"Total training time: {total_time:.2f} s\")\n",
    "torch.save(model_diffuser, ddm_save_path)\n",
    "print('Saved model to', ddm_save_path)\n",
    "\n",
    "# Save the stats\n",
    "ddm_stats = {'epoch': epoch, 'current_loss': current_loss, 'test_loss': test_loss, 'train_loss': train_loss,\n",
    "            'test_loss_epoch': test_loss_epoch, 'train_loss_epoch': train_loss_epoch}\n",
    "torch.save(ddm_stats, ddm_stats_path)\n",
    "print('Saved stats to', ddm_stats_path)\n"
   ]
  }
 ],
 "metadata": {
  "kernelspec": {
   "display_name": "GrainPaint",
   "language": "python",
   "name": "python3"
  },
  "language_info": {
   "codemirror_mode": {
    "name": "ipython",
    "version": 3
   },
   "file_extension": ".py",
   "mimetype": "text/x-python",
   "name": "python",
   "nbconvert_exporter": "python",
   "pygments_lexer": "ipython3",
   "version": "3.11.11"
  },
  "orig_nbformat": 4
 },
 "nbformat": 4,
 "nbformat_minor": 2
}
